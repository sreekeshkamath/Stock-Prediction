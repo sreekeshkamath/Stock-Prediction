{
 "cells": [
  {
   "cell_type": "markdown",
   "metadata": {
    "collapsed": false,
    "deletable": true,
    "editable": true
   },
   "source": [
    "# Stock Data Preparation Demo\n",
    "\n",
    "Today we will do a simple experiment on a stock prediction case. \n",
    "\n",
    "In order to save time on preparing the data, I'd like to introduce **TuShare**. You can use any other data source if you don't want to deal with Chinese stock market or you are not familiar with Chinese (TuShare's doc is all Chinese). \n",
    "\n",
    "In addition, you can have as many features as you want unless you keep the close price (the one we want to predict!) as the last column in your Pandas DataFrame.\n",
    "\n",
    "**This is just a demo about how to use TuShare and deal with its data. You can find a separate (and simple) script with instructions about fetching more detailed data.**"
   ]
  },
  {
   "cell_type": "code",
   "execution_count": 1,
   "metadata": {
    "collapsed": false,
    "deletable": true,
    "editable": true
   },
   "outputs": [
    {
     "name": "stdout",
     "output_type": "stream",
     "text": [
      "0.7.4\n"
     ]
    }
   ],
   "source": [
    "import tushare as ts # TuShare is a utility for crawling historical data of China stocks\n",
    "import pandas as pd\n",
    "\n",
    "print(ts.__version__)"
   ]
  },
  {
   "cell_type": "code",
   "execution_count": 2,
   "metadata": {
    "collapsed": false,
    "deletable": true,
    "editable": true
   },
   "outputs": [],
   "source": [
    "stock_index = '000002' # You can enter the stock you are interested in\n",
    "csv_name = 'stock-{}'.format(stock_index)\n",
    "start_date = '2016-01-01'\n",
    "end_date = None # We will use today as the end date here, you can specify one if you want"
   ]
  },
  {
   "cell_type": "code",
   "execution_count": 3,
   "metadata": {
    "collapsed": false,
    "deletable": true,
    "editable": true
   },
   "outputs": [
    {
     "name": "stdout",
     "output_type": "stream",
     "text": [
      "[Getting data:]#####"
     ]
    },
    {
     "data": {
      "text/html": [
       "<div>\n",
       "<table border=\"1\" class=\"dataframe\">\n",
       "  <thead>\n",
       "    <tr style=\"text-align: right;\">\n",
       "      <th></th>\n",
       "      <th>open</th>\n",
       "      <th>high</th>\n",
       "      <th>close</th>\n",
       "      <th>low</th>\n",
       "      <th>volume</th>\n",
       "      <th>amount</th>\n",
       "    </tr>\n",
       "    <tr>\n",
       "      <th>date</th>\n",
       "      <th></th>\n",
       "      <th></th>\n",
       "      <th></th>\n",
       "      <th></th>\n",
       "      <th></th>\n",
       "      <th></th>\n",
       "    </tr>\n",
       "  </thead>\n",
       "  <tbody>\n",
       "    <tr>\n",
       "      <th>2017-04-14</th>\n",
       "      <td>20.92</td>\n",
       "      <td>20.92</td>\n",
       "      <td>20.64</td>\n",
       "      <td>20.60</td>\n",
       "      <td>21850597.0</td>\n",
       "      <td>4.520071e+08</td>\n",
       "    </tr>\n",
       "    <tr>\n",
       "      <th>2017-04-13</th>\n",
       "      <td>21.00</td>\n",
       "      <td>21.15</td>\n",
       "      <td>20.94</td>\n",
       "      <td>20.72</td>\n",
       "      <td>26910139.0</td>\n",
       "      <td>5.628396e+08</td>\n",
       "    </tr>\n",
       "    <tr>\n",
       "      <th>2017-04-12</th>\n",
       "      <td>20.70</td>\n",
       "      <td>21.57</td>\n",
       "      <td>21.02</td>\n",
       "      <td>20.70</td>\n",
       "      <td>64585536.0</td>\n",
       "      <td>1.363421e+09</td>\n",
       "    </tr>\n",
       "    <tr>\n",
       "      <th>2017-04-11</th>\n",
       "      <td>20.60</td>\n",
       "      <td>20.70</td>\n",
       "      <td>20.70</td>\n",
       "      <td>20.20</td>\n",
       "      <td>45886018.0</td>\n",
       "      <td>9.382043e+08</td>\n",
       "    </tr>\n",
       "    <tr>\n",
       "      <th>2017-04-10</th>\n",
       "      <td>20.72</td>\n",
       "      <td>20.75</td>\n",
       "      <td>20.60</td>\n",
       "      <td>20.51</td>\n",
       "      <td>27459940.0</td>\n",
       "      <td>5.659634e+08</td>\n",
       "    </tr>\n",
       "  </tbody>\n",
       "</table>\n",
       "</div>"
      ],
      "text/plain": [
       "             open   high  close    low      volume        amount\n",
       "date                                                            \n",
       "2017-04-14  20.92  20.92  20.64  20.60  21850597.0  4.520071e+08\n",
       "2017-04-13  21.00  21.15  20.94  20.72  26910139.0  5.628396e+08\n",
       "2017-04-12  20.70  21.57  21.02  20.70  64585536.0  1.363421e+09\n",
       "2017-04-11  20.60  20.70  20.70  20.20  45886018.0  9.382043e+08\n",
       "2017-04-10  20.72  20.75  20.60  20.51  27459940.0  5.659634e+08"
      ]
     },
     "execution_count": 3,
     "metadata": {},
     "output_type": "execute_result"
    }
   ],
   "source": [
    "df = ts.get_h_data(stock_index, start=start_date, autype=None)\n",
    "df.head()"
   ]
  },
  {
   "cell_type": "code",
   "execution_count": 4,
   "metadata": {
    "collapsed": false,
    "deletable": true,
    "editable": true
   },
   "outputs": [
    {
     "data": {
      "text/html": [
       "<div>\n",
       "<table border=\"1\" class=\"dataframe\">\n",
       "  <thead>\n",
       "    <tr style=\"text-align: right;\">\n",
       "      <th></th>\n",
       "      <th>open</th>\n",
       "      <th>high</th>\n",
       "      <th>close</th>\n",
       "      <th>low</th>\n",
       "      <th>volume</th>\n",
       "      <th>amount</th>\n",
       "    </tr>\n",
       "  </thead>\n",
       "  <tbody>\n",
       "    <tr>\n",
       "      <th>0</th>\n",
       "      <td>20.92</td>\n",
       "      <td>20.92</td>\n",
       "      <td>20.64</td>\n",
       "      <td>20.60</td>\n",
       "      <td>21850597.0</td>\n",
       "      <td>4.520071e+08</td>\n",
       "    </tr>\n",
       "    <tr>\n",
       "      <th>1</th>\n",
       "      <td>21.00</td>\n",
       "      <td>21.15</td>\n",
       "      <td>20.94</td>\n",
       "      <td>20.72</td>\n",
       "      <td>26910139.0</td>\n",
       "      <td>5.628396e+08</td>\n",
       "    </tr>\n",
       "    <tr>\n",
       "      <th>2</th>\n",
       "      <td>20.70</td>\n",
       "      <td>21.57</td>\n",
       "      <td>21.02</td>\n",
       "      <td>20.70</td>\n",
       "      <td>64585536.0</td>\n",
       "      <td>1.363421e+09</td>\n",
       "    </tr>\n",
       "    <tr>\n",
       "      <th>3</th>\n",
       "      <td>20.60</td>\n",
       "      <td>20.70</td>\n",
       "      <td>20.70</td>\n",
       "      <td>20.20</td>\n",
       "      <td>45886018.0</td>\n",
       "      <td>9.382043e+08</td>\n",
       "    </tr>\n",
       "    <tr>\n",
       "      <th>4</th>\n",
       "      <td>20.72</td>\n",
       "      <td>20.75</td>\n",
       "      <td>20.60</td>\n",
       "      <td>20.51</td>\n",
       "      <td>27459940.0</td>\n",
       "      <td>5.659634e+08</td>\n",
       "    </tr>\n",
       "  </tbody>\n",
       "</table>\n",
       "</div>"
      ],
      "text/plain": [
       "    open   high  close    low      volume        amount\n",
       "0  20.92  20.92  20.64  20.60  21850597.0  4.520071e+08\n",
       "1  21.00  21.15  20.94  20.72  26910139.0  5.628396e+08\n",
       "2  20.70  21.57  21.02  20.70  64585536.0  1.363421e+09\n",
       "3  20.60  20.70  20.70  20.20  45886018.0  9.382043e+08\n",
       "4  20.72  20.75  20.60  20.51  27459940.0  5.659634e+08"
      ]
     },
     "execution_count": 4,
     "metadata": {},
     "output_type": "execute_result"
    }
   ],
   "source": [
    "df = df.reset_index(drop=True)\n",
    "df.head()"
   ]
  },
  {
   "cell_type": "markdown",
   "metadata": {
    "deletable": true,
    "editable": true
   },
   "source": [
    "## Change Column Order\n",
    "\n",
    "We will keep 'close' as our last column."
   ]
  },
  {
   "cell_type": "code",
   "execution_count": 5,
   "metadata": {
    "collapsed": false,
    "deletable": true,
    "editable": true
   },
   "outputs": [
    {
     "data": {
      "text/plain": [
       "['open', 'high', 'close', 'low', 'volume', 'amount']"
      ]
     },
     "execution_count": 5,
     "metadata": {},
     "output_type": "execute_result"
    }
   ],
   "source": [
    "col_list = df.columns.tolist()\n",
    "col_list"
   ]
  },
  {
   "cell_type": "code",
   "execution_count": 6,
   "metadata": {
    "collapsed": false,
    "deletable": true,
    "editable": true
   },
   "outputs": [
    {
     "data": {
      "text/plain": [
       "['open', 'high', 'low', 'volume', 'close']"
      ]
     },
     "execution_count": 6,
     "metadata": {},
     "output_type": "execute_result"
    }
   ],
   "source": [
    "col_list.remove('close')\n",
    "col_list.remove('amount') # Just for simplicity, should not be removed\n",
    "col_list.append('close')\n",
    "col_list"
   ]
  },
  {
   "cell_type": "code",
   "execution_count": 7,
   "metadata": {
    "collapsed": false,
    "deletable": true,
    "editable": true
   },
   "outputs": [
    {
     "data": {
      "text/html": [
       "<div>\n",
       "<table border=\"1\" class=\"dataframe\">\n",
       "  <thead>\n",
       "    <tr style=\"text-align: right;\">\n",
       "      <th></th>\n",
       "      <th>open</th>\n",
       "      <th>high</th>\n",
       "      <th>low</th>\n",
       "      <th>volume</th>\n",
       "      <th>close</th>\n",
       "    </tr>\n",
       "  </thead>\n",
       "  <tbody>\n",
       "    <tr>\n",
       "      <th>0</th>\n",
       "      <td>20.92</td>\n",
       "      <td>20.92</td>\n",
       "      <td>20.60</td>\n",
       "      <td>21850597.0</td>\n",
       "      <td>20.64</td>\n",
       "    </tr>\n",
       "    <tr>\n",
       "      <th>1</th>\n",
       "      <td>21.00</td>\n",
       "      <td>21.15</td>\n",
       "      <td>20.72</td>\n",
       "      <td>26910139.0</td>\n",
       "      <td>20.94</td>\n",
       "    </tr>\n",
       "    <tr>\n",
       "      <th>2</th>\n",
       "      <td>20.70</td>\n",
       "      <td>21.57</td>\n",
       "      <td>20.70</td>\n",
       "      <td>64585536.0</td>\n",
       "      <td>21.02</td>\n",
       "    </tr>\n",
       "    <tr>\n",
       "      <th>3</th>\n",
       "      <td>20.60</td>\n",
       "      <td>20.70</td>\n",
       "      <td>20.20</td>\n",
       "      <td>45886018.0</td>\n",
       "      <td>20.70</td>\n",
       "    </tr>\n",
       "    <tr>\n",
       "      <th>4</th>\n",
       "      <td>20.72</td>\n",
       "      <td>20.75</td>\n",
       "      <td>20.51</td>\n",
       "      <td>27459940.0</td>\n",
       "      <td>20.60</td>\n",
       "    </tr>\n",
       "  </tbody>\n",
       "</table>\n",
       "</div>"
      ],
      "text/plain": [
       "    open   high    low      volume  close\n",
       "0  20.92  20.92  20.60  21850597.0  20.64\n",
       "1  21.00  21.15  20.72  26910139.0  20.94\n",
       "2  20.70  21.57  20.70  64585536.0  21.02\n",
       "3  20.60  20.70  20.20  45886018.0  20.70\n",
       "4  20.72  20.75  20.51  27459940.0  20.60"
      ]
     },
     "execution_count": 7,
     "metadata": {},
     "output_type": "execute_result"
    }
   ],
   "source": [
    "df = df[col_list]\n",
    "df.head()"
   ]
  },
  {
   "cell_type": "code",
   "execution_count": 8,
   "metadata": {
    "collapsed": false,
    "deletable": true,
    "editable": true
   },
   "outputs": [
    {
     "data": {
      "text/html": [
       "<div>\n",
       "<table border=\"1\" class=\"dataframe\">\n",
       "  <thead>\n",
       "    <tr style=\"text-align: right;\">\n",
       "      <th></th>\n",
       "      <th>open</th>\n",
       "      <th>high</th>\n",
       "      <th>low</th>\n",
       "      <th>volume</th>\n",
       "      <th>close</th>\n",
       "    </tr>\n",
       "  </thead>\n",
       "  <tbody>\n",
       "    <tr>\n",
       "      <th>0</th>\n",
       "      <td>20.92</td>\n",
       "      <td>20.92</td>\n",
       "      <td>20.60</td>\n",
       "      <td>21.850597</td>\n",
       "      <td>20.64</td>\n",
       "    </tr>\n",
       "    <tr>\n",
       "      <th>1</th>\n",
       "      <td>21.00</td>\n",
       "      <td>21.15</td>\n",
       "      <td>20.72</td>\n",
       "      <td>26.910139</td>\n",
       "      <td>20.94</td>\n",
       "    </tr>\n",
       "    <tr>\n",
       "      <th>2</th>\n",
       "      <td>20.70</td>\n",
       "      <td>21.57</td>\n",
       "      <td>20.70</td>\n",
       "      <td>64.585536</td>\n",
       "      <td>21.02</td>\n",
       "    </tr>\n",
       "    <tr>\n",
       "      <th>3</th>\n",
       "      <td>20.60</td>\n",
       "      <td>20.70</td>\n",
       "      <td>20.20</td>\n",
       "      <td>45.886018</td>\n",
       "      <td>20.70</td>\n",
       "    </tr>\n",
       "    <tr>\n",
       "      <th>4</th>\n",
       "      <td>20.72</td>\n",
       "      <td>20.75</td>\n",
       "      <td>20.51</td>\n",
       "      <td>27.459940</td>\n",
       "      <td>20.60</td>\n",
       "    </tr>\n",
       "  </tbody>\n",
       "</table>\n",
       "</div>"
      ],
      "text/plain": [
       "    open   high    low     volume  close\n",
       "0  20.92  20.92  20.60  21.850597  20.64\n",
       "1  21.00  21.15  20.72  26.910139  20.94\n",
       "2  20.70  21.57  20.70  64.585536  21.02\n",
       "3  20.60  20.70  20.20  45.886018  20.70\n",
       "4  20.72  20.75  20.51  27.459940  20.60"
      ]
     },
     "execution_count": 8,
     "metadata": {},
     "output_type": "execute_result"
    }
   ],
   "source": [
    "df['volume'] = df['volume'] / 1000000\n",
    "df.head()"
   ]
  },
  {
   "cell_type": "markdown",
   "metadata": {
    "deletable": true,
    "editable": true
   },
   "source": [
    "## Save Data"
   ]
  },
  {
   "cell_type": "code",
   "execution_count": 9,
   "metadata": {
    "collapsed": true,
    "deletable": true,
    "editable": true
   },
   "outputs": [],
   "source": [
    "df.to_csv(csv_name, index=False)"
   ]
  },
  {
   "cell_type": "markdown",
   "metadata": {
    "deletable": true,
    "editable": true
   },
   "source": [
    "Let's have a double check whether the data is saved properly."
   ]
  },
  {
   "cell_type": "code",
   "execution_count": 10,
   "metadata": {
    "collapsed": false,
    "deletable": true,
    "editable": true
   },
   "outputs": [
    {
     "data": {
      "text/html": [
       "<div>\n",
       "<table border=\"1\" class=\"dataframe\">\n",
       "  <thead>\n",
       "    <tr style=\"text-align: right;\">\n",
       "      <th></th>\n",
       "      <th>open</th>\n",
       "      <th>high</th>\n",
       "      <th>low</th>\n",
       "      <th>volume</th>\n",
       "      <th>close</th>\n",
       "    </tr>\n",
       "  </thead>\n",
       "  <tbody>\n",
       "    <tr>\n",
       "      <th>0</th>\n",
       "      <td>20.92</td>\n",
       "      <td>20.92</td>\n",
       "      <td>20.60</td>\n",
       "      <td>21.850597</td>\n",
       "      <td>20.64</td>\n",
       "    </tr>\n",
       "    <tr>\n",
       "      <th>1</th>\n",
       "      <td>21.00</td>\n",
       "      <td>21.15</td>\n",
       "      <td>20.72</td>\n",
       "      <td>26.910139</td>\n",
       "      <td>20.94</td>\n",
       "    </tr>\n",
       "    <tr>\n",
       "      <th>2</th>\n",
       "      <td>20.70</td>\n",
       "      <td>21.57</td>\n",
       "      <td>20.70</td>\n",
       "      <td>64.585536</td>\n",
       "      <td>21.02</td>\n",
       "    </tr>\n",
       "    <tr>\n",
       "      <th>3</th>\n",
       "      <td>20.60</td>\n",
       "      <td>20.70</td>\n",
       "      <td>20.20</td>\n",
       "      <td>45.886018</td>\n",
       "      <td>20.70</td>\n",
       "    </tr>\n",
       "    <tr>\n",
       "      <th>4</th>\n",
       "      <td>20.72</td>\n",
       "      <td>20.75</td>\n",
       "      <td>20.51</td>\n",
       "      <td>27.459940</td>\n",
       "      <td>20.60</td>\n",
       "    </tr>\n",
       "  </tbody>\n",
       "</table>\n",
       "</div>"
      ],
      "text/plain": [
       "    open   high    low     volume  close\n",
       "0  20.92  20.92  20.60  21.850597  20.64\n",
       "1  21.00  21.15  20.72  26.910139  20.94\n",
       "2  20.70  21.57  20.70  64.585536  21.02\n",
       "3  20.60  20.70  20.20  45.886018  20.70\n",
       "4  20.72  20.75  20.51  27.459940  20.60"
      ]
     },
     "execution_count": 10,
     "metadata": {},
     "output_type": "execute_result"
    }
   ],
   "source": [
    "validate_df = pd.read_csv(csv_name)\n",
    "validate_df.head()"
   ]
  },
  {
   "cell_type": "markdown",
   "metadata": {
    "collapsed": true,
    "deletable": true,
    "editable": true
   },
   "source": [
    "**Great, it works!**"
   ]
  },
  {
   "cell_type": "code",
   "execution_count": null,
   "metadata": {
    "collapsed": true
   },
   "outputs": [],
   "source": []
  }
 ],
 "metadata": {
  "kernelspec": {
   "display_name": "Python 3",
   "language": "python",
   "name": "python3"
  },
  "language_info": {
   "codemirror_mode": {
    "name": "ipython",
    "version": 3
   },
   "file_extension": ".py",
   "mimetype": "text/x-python",
   "name": "python",
   "nbconvert_exporter": "python",
   "pygments_lexer": "ipython3",
   "version": "3.5.2"
  },
  "widgets": {
   "state": {},
   "version": "1.1.2"
  }
 },
 "nbformat": 4,
 "nbformat_minor": 2
}
